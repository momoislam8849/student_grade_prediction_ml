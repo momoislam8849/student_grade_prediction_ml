{
 "cells": [
  {
   "cell_type": "code",
   "execution_count": 2,
   "metadata": {},
   "outputs": [],
   "source": [
    "import pandas as pd\n",
    "import numpy as np\n",
    "import sklearn\n",
    "from sklearn import linear_model\n",
    "from sklearn.utils import shuffle"
   ]
  },
  {
   "cell_type": "code",
   "execution_count": 4,
   "metadata": {},
   "outputs": [],
   "source": [
    "import os\n"
   ]
  },
  {
   "cell_type": "code",
   "execution_count": 5,
   "metadata": {},
   "outputs": [],
   "source": [
    "os.chdir(\"C:\\\\Users\\\\DCL\\\\dm dataset\")"
   ]
  },
  {
   "cell_type": "code",
   "execution_count": 7,
   "metadata": {},
   "outputs": [],
   "source": [
    "data = pd.read_csv(\"student-mat.csv\")"
   ]
  },
  {
   "cell_type": "code",
   "execution_count": 8,
   "metadata": {},
   "outputs": [],
   "source": [
    "data = data[[\"G1\", \"G2\", \"G3\", \"studytime\", \"failures\", \"absences\",\"famrel\",\"freetime\",\"goout\",\"health\"]]\n"
   ]
  },
  {
   "cell_type": "code",
   "execution_count": 9,
   "metadata": {},
   "outputs": [
    {
     "name": "stdout",
     "output_type": "stream",
     "text": [
      "   G1  G2  G3  studytime  failures  absences  famrel  freetime  goout  health\n",
      "0   5   6   6          2         0         6       4         3      4       3\n",
      "1   5   5   6          2         0         4       5         3      3       3\n",
      "2   7   8  10          2         3        10       4         3      2       3\n",
      "3  15  14  15          3         0         2       3         2      2       5\n",
      "4   6  10  10          2         0         4       4         3      2       5\n"
     ]
    }
   ],
   "source": [
    "print(data.head())\n"
   ]
  },
  {
   "cell_type": "code",
   "execution_count": 10,
   "metadata": {},
   "outputs": [],
   "source": [
    "predict = \"G3\"\n",
    "\n",
    "X = np.array(data.drop([predict], 1)) # Features\n",
    "y = np.array(data[predict]) # Label"
   ]
  },
  {
   "cell_type": "code",
   "execution_count": 11,
   "metadata": {},
   "outputs": [],
   "source": [
    "x_train, x_test, y_train, y_test = sklearn.model_selection.train_test_split(X, y, test_size = 0.1)"
   ]
  },
  {
   "cell_type": "code",
   "execution_count": 12,
   "metadata": {},
   "outputs": [],
   "source": [
    "linear = linear_model.LinearRegression()\n"
   ]
  },
  {
   "cell_type": "code",
   "execution_count": 13,
   "metadata": {},
   "outputs": [],
   "source": [
    "linear.fit(x_train, y_train)\n",
    "acc = linear.score(x_test, y_test) # acc stands for accuracy "
   ]
  },
  {
   "cell_type": "code",
   "execution_count": 14,
   "metadata": {},
   "outputs": [
    {
     "name": "stdout",
     "output_type": "stream",
     "text": [
      "0.9083123000455571\n"
     ]
    }
   ],
   "source": [
    "print(acc)\n"
   ]
  },
  {
   "cell_type": "markdown",
   "metadata": {},
   "source": [
    "# Predicting on Specific Students\n"
   ]
  },
  {
   "cell_type": "code",
   "execution_count": 15,
   "metadata": {},
   "outputs": [],
   "source": [
    "predictions = linear.predict(x_test) # Gets a list of all predictions\n"
   ]
  },
  {
   "cell_type": "code",
   "execution_count": 16,
   "metadata": {},
   "outputs": [
    {
     "name": "stdout",
     "output_type": "stream",
     "text": [
      "8.604258630494412 [ 9  9  2  2 11  5  5  4  4] 9\n",
      "17.92918612198512 [16 18  2  0  0  4  2  2  1] 19\n",
      "11.380815332483987 [11 12  2  0 12  2  3  5  3] 11\n",
      "12.517961039139811 [13 12  1  0  0  5  3  2  5] 12\n",
      "13.636075082319904 [15 13  2  0  9  5  4  3  2] 15\n",
      "10.219388894999476 [12 10  2  0 14  4  2  4  4] 11\n",
      "12.704191810952368 [12 12  1  0  8  5  4  3  5] 12\n",
      "14.984388304529597 [14 15  2  0  4  3  2  2  5] 15\n",
      "4.78713024303 [ 6  6  2  1 13  3  2  4  4] 8\n",
      "6.3464437556313555 [ 6  7  2  1 15  4  4  4  5] 8\n",
      "14.450321650560833 [14 14  1  0  2  4  3  3  5] 14\n",
      "14.558139985202013 [13 14  1  0  0  5  4  2  5] 13\n",
      "9.214650179985963 [ 8 10  2  0  0  5  3  2  2] 12\n",
      "18.291820804922473 [16 18  2  0  0  5  4  4  1] 18\n",
      "8.418425979303969 [8 9 2 0 4 5 4 3 2] 10\n",
      "8.948003306535206 [ 7 10  2  0  0  5  3  2  1] 11\n",
      "12.610185959569906 [11 13  1  1 10  2  5  5  5] 13\n",
      "-0.7633895440773277 [7 0 1 1 0 4 4 4 5] 0\n",
      "12.015712318046333 [11 12  1  0  0  4  4  1  5] 10\n",
      "15.63754883646523 [14 16  1  0  3  2  4  5  2] 16\n",
      "4.549004651140537 [6 5 1 0 7 4 4 3 5] 6\n",
      "15.094576574526387 [16 15  4  0  7  5  3  3  1] 17\n",
      "16.731800181296514 [17 16  2  0  0  4  5  2  5] 16\n",
      "7.383201765598248 [ 9  8  2  0 10  3  4  3  3] 8\n",
      "4.627619479485586 [7 6 1 2 0 3 3 2 5] 0\n",
      "11.545372206640334 [ 8 12  1  0  0  4  4  2  5] 12\n",
      "20.431589665736823 [18 19  1  0  6  5  5  3  4] 19\n",
      "6.997373866557378 [6 8 1 1 0 4 4 5 5] 8\n",
      "11.95157794575773 [12 12  2  0 14  2  5  5  5] 12\n",
      "12.204041560200436 [15 12  2  1  0  4  5  3  5] 12\n",
      "9.443170413236906 [11 10  3  0  4  4  3  3  3] 10\n",
      "-1.3130218845526849 [5 0 1 3 0 5 4 5 5] 0\n",
      "2.879456431248551 [6 5 2 1 0 1 1 1 5] 0\n",
      "11.712123879415973 [13 13  4  0  4  1  3  3  3] 12\n",
      "10.142833637509302 [11 11  3  0  3  3  3  2  3] 11\n",
      "8.604466317731386 [10  9  3  0  2  5  3  3  4] 10\n",
      "13.041907833615133 [13 13  2  0  2  4  2  2  5] 13\n",
      "4.61796501406929 [8 6 2 2 2 3 3 4 5] 5\n",
      "4.838612007138817 [5 6 2 0 6 4 3 4 3] 6\n",
      "12.722114374012842 [14 13  2  0  2  4  2  4  1] 13\n"
     ]
    }
   ],
   "source": [
    "for x in range(len(predictions)):\n",
    "    print(predictions[x], x_test[x], y_test[x]) #prediction of each student [g1,g2.... attrites value]"
   ]
  },
  {
   "cell_type": "code",
   "execution_count": 17,
   "metadata": {},
   "outputs": [
    {
     "name": "stdout",
     "output_type": "stream",
     "text": [
      "Coefficient: \n",
      " [ 0.15340675  0.99053625 -0.21548423 -0.24868025  0.03633137  0.26466152\n",
      "  0.05910644 -0.01011986  0.11324012]\n",
      "Intercept: \n",
      " -3.1938653365662777\n"
     ]
    }
   ],
   "source": [
    "print('Coefficient: \\n', linear.coef_) # These are each slope value\n",
    "print('Intercept: \\n', linear.intercept_) # This is the intercept"
   ]
  },
  {
   "cell_type": "markdown",
   "metadata": {},
   "source": [
    "# saving the model using pickle"
   ]
  },
  {
   "cell_type": "code",
   "execution_count": 19,
   "metadata": {},
   "outputs": [],
   "source": [
    "import pickle\n",
    "import matplotlib.pyplot as plt\n",
    "from matplotlib import style"
   ]
  },
  {
   "cell_type": "markdown",
   "metadata": {},
   "source": [
    "# saving model"
   ]
  },
  {
   "cell_type": "code",
   "execution_count": 21,
   "metadata": {},
   "outputs": [],
   "source": [
    "with open(\"studentgrades.pickle\", \"wb\") as f:\n",
    "    pickle.dump(linear, f)\n",
    "\n",
    "# linear is the name of the model we created in the last tutorial\n",
    "# it should be defined above this\n",
    "# filename.picle ,wb = writing mode, f = as file save #dump = dump the model into file"
   ]
  },
  {
   "cell_type": "markdown",
   "metadata": {},
   "source": [
    "# Load back model"
   ]
  },
  {
   "cell_type": "code",
   "execution_count": 22,
   "metadata": {},
   "outputs": [],
   "source": [
    "pickle_in = open(\"studentgrades.pickle\", \"rb\")\n",
    "linear = pickle.load(pickle_in) #linear varible anyname\n",
    "\n",
    "# Now we can use linear to predict grades like before"
   ]
  },
  {
   "cell_type": "markdown",
   "metadata": {},
   "source": [
    "# Training Multiple Models\n"
   ]
  },
  {
   "cell_type": "code",
   "execution_count": 26,
   "metadata": {},
   "outputs": [
    {
     "name": "stdout",
     "output_type": "stream",
     "text": [
      "Accuracy: 0.7642500688863194\n",
      "Accuracy: 0.785525330334327\n",
      "Accuracy: 0.9172319132555173\n",
      "Accuracy: 0.9534620583445421\n",
      "Accuracy: 0.8622781712314321\n",
      "Accuracy: 0.7287327850419056\n",
      "Accuracy: 0.8004845331534024\n",
      "Accuracy: 0.7798441364501706\n",
      "Accuracy: 0.788216473011517\n",
      "Accuracy: 0.8969062552010489\n",
      "Accuracy: 0.7978348837608945\n",
      "Accuracy: 0.8324617488622446\n",
      "Accuracy: 0.7673528427889111\n",
      "Accuracy: 0.7655215856363747\n",
      "Accuracy: 0.7459904890028841\n",
      "Accuracy: 0.948722413993391\n",
      "Accuracy: 0.8487839600865064\n",
      "Accuracy: 0.826842326421406\n",
      "Accuracy: 0.8856689356311618\n",
      "Accuracy: 0.751198224347337\n",
      "Accuracy: 0.8951623542883282\n",
      "Accuracy: 0.8482683174251385\n",
      "Accuracy: 0.7316789420725844\n",
      "Accuracy: 0.9034829733140469\n",
      "Accuracy: 0.8290647912586415\n",
      "Accuracy: 0.7611375393063389\n",
      "Accuracy: 0.9025420443087444\n",
      "Accuracy: 0.685967293462947\n",
      "Accuracy: 0.7203939752166288\n",
      "Accuracy: 0.8371831145124473\n"
     ]
    }
   ],
   "source": [
    "# TRAIN MODEL MULTIPLE TIMES FOR BEST SCORE\n",
    "# thik will 20 times run the model and will save the higest accuracy\n",
    "best = 0\n",
    "for _ in range(30):\n",
    "    x_train, x_test, y_train, y_test = sklearn.model_selection.train_test_split(X, y, test_size = 0.1)\n",
    "    linear = linear_model.LinearRegression()\n",
    "\n",
    "    linear.fit(x_train, y_train)\n",
    "    acc = linear.score(x_test, y_test)\n",
    "    print(\"Accuracy: \" + str(acc))\n",
    "    \n",
    "    # If the current model has a better score than one we've already trained then save it\n",
    "    if acc > best:\n",
    "        best = acc\n",
    "        with open(\"studentgrades.pickle\", \"wb\") as f:\n",
    "            pickle.dump(linear, f)"
   ]
  },
  {
   "cell_type": "markdown",
   "metadata": {},
   "source": [
    "# Plotting data"
   ]
  },
  {
   "cell_type": "code",
   "execution_count": 28,
   "metadata": {},
   "outputs": [
    {
     "data": {
      "image/png": "[encoded data removed]",
      "text/plain": [
       "<Figure size 432x288 with 1 Axes>"
      ]
     },
     "metadata": {
      "needs_background": "light"
     },
     "output_type": "display_data"
    }
   ],
   "source": [
    "plot = \"failures\" # Change this to G1, G2, studytime or absences to see other graphs\n",
    "plt.scatter(data[plot], data[\"G3\"]) \n",
    "#plt.legend(loc=4)\n",
    "plt.xlabel(plot) #plot = attributes #label\n",
    "plt.ylabel(\"Final Grade\")\n",
    "plt.show()"
   ]
  },
  {
   "cell_type": "code",
   "execution_count": 30,
   "metadata": {},
   "outputs": [
    {
     "data": {
      "image/png": "[encoded data removed]",
      "text/plain": [
       "<Figure size 432x288 with 1 Axes>"
      ]
     },
     "metadata": {
      "needs_background": "light"
     },
     "output_type": "display_data"
    }
   ],
   "source": [
    "plot = \"G1\" # Change this to G1, G2, studytime or absences to see other graphs\n",
    "plt.scatter(data[plot], data[\"G3\"]) \n",
    "#plt.legend(loc=4)\n",
    "plt.xlabel(plot)\n",
    "plt.ylabel(\"Final Grade\")\n",
    "plt.show()"
   ]
  },
  {
   "cell_type": "code",
   "execution_count": 31,
   "metadata": {},
   "outputs": [
    {
     "data": {
      "image/png": "[encoded data removed]",
      "text/plain": [
       "<Figure size 432x288 with 1 Axes>"
      ]
     },
     "metadata": {
      "needs_background": "light"
     },
     "output_type": "display_data"
    }
   ],
   "source": [
    "plot = \"G2\" # Change this to G1, G2, studytime or absences to see other graphs\n",
    "plt.scatter(data[plot], data[\"G3\"]) \n",
    "#plt.legend(loc=4)\n",
    "plt.xlabel(plot)\n",
    "plt.ylabel(\"Final Grade\")\n",
    "plt.show()"
   ]
  },
  {
   "cell_type": "code",
   "execution_count": 32,
   "metadata": {},
   "outputs": [
    {
     "data": {
      "image/png": "[encoded data removed]",
      "text/plain": [
       "<Figure size 432x288 with 1 Axes>"
      ]
     },
     "metadata": {
      "needs_background": "light"
     },
     "output_type": "display_data"
    }
   ],
   "source": [
    "plot = \"studytime\" # Change this to G1, G2, studytime or absences to see other graphs\n",
    "plt.scatter(data[plot], data[\"G3\"]) \n",
    "#plt.legend(loc=4)\n",
    "plt.xlabel(plot)\n",
    "plt.ylabel(\"Final Grade\")\n",
    "plt.show()"
   ]
  },
  {
   "cell_type": "code",
   "execution_count": 33,
   "metadata": {},
   "outputs": [
    {
     "data": {
      "image/png": "[encoded data removed]",
      "text/plain": [
       "<Figure size 432x288 with 1 Axes>"
      ]
     },
     "metadata": {
      "needs_background": "light"
     },
     "output_type": "display_data"
    }
   ],
   "source": [
    "plot = \"absences\" # Change this to G1, G2, studytime or absences to see other graphs\n",
    "plt.scatter(data[plot], data[\"G3\"]) \n",
    "#plt.legend(loc=4)\n",
    "plt.xlabel(plot)\n",
    "plt.ylabel(\"Final Grade\")\n",
    "plt.show()"
   ]
  },
  {
   "cell_type": "code",
   "execution_count": 34,
   "metadata": {},
   "outputs": [
    {
     "data": {
      "image/png": "[encoded data removed]",
      "text/plain": [
       "<Figure size 432x288 with 1 Axes>"
      ]
     },
     "metadata": {
      "needs_background": "light"
     },
     "output_type": "display_data"
    }
   ],
   "source": [
    "plot = \"health\" # Change this to G1, G2, studytime or absences to see other graphs\n",
    "plt.scatter(data[plot], data[\"G3\"]) \n",
    "#plt.legend(loc=4)\n",
    "plt.xlabel(plot)\n",
    "plt.ylabel(\"Final Grade\")\n",
    "plt.show()"
   ]
  },
  {
   "cell_type": "code",
   "execution_count": null,
   "metadata": {},
   "outputs": [],
   "source": []
  }
 ],
 "metadata": {
  "kernelspec": {
   "display_name": "Python 3",
   "language": "python",
   "name": "python3"
  },
  "language_info": {
   "codemirror_mode": {
    "name": "ipython",
    "version": 3
   },
   "file_extension": ".py",
   "mimetype": "text/x-python",
   "name": "python",
   "nbconvert_exporter": "python",
   "pygments_lexer": "ipython3",
   "version": "3.7.6"
  }
 },
 "nbformat": 4,
 "nbformat_minor": 4
}
